{
 "cells": [
  {
   "cell_type": "markdown",
   "metadata": {},
   "source": [
    "# <font color='red'> Time Series Modelling </font>"
   ]
  },
  {
   "cell_type": "markdown",
   "metadata": {},
   "source": [
    "To predict the future values for stock markets, electricity demand, pollution levels, etc we need to enter into the realm of **forecasting**. \n",
    "\n",
    "Let's go through some timeseries basics"
   ]
  },
  {
   "cell_type": "code",
   "execution_count": null,
   "metadata": {},
   "outputs": [],
   "source": [
    "import seaborn as sns\n",
    "sns.set(rc={'figure.figsize':(11.7,8.27)})\n",
    "\n",
    "import pandas as pd\n",
    "import numpy as np"
   ]
  },
  {
   "cell_type": "markdown",
   "metadata": {},
   "source": [
    "## <font color='red'> Modelling Basics </font>"
   ]
  },
  {
   "cell_type": "markdown",
   "metadata": {},
   "source": [
    "Throughout time series literature, you will find several terms like **trend**, **seasonal**, **exogenous variable**, etc. These terms are used to refer to specific components of a time series and what (external) phenomena might be connected to the what you are trying to predict. Let's start with the components and, after that, the nomenclature for variables."
   ]
  },
  {
   "cell_type": "markdown",
   "metadata": {},
   "source": [
    "### <font color='red'> 1. Components <font>\n",
    "\n",
    "Time series can be thought as a (linear or non-linear) composition of 4 components: **trend**, **cyclical**, **seasonal** and **irregular**\n",
    "\n",
    "$$Y_t = Trend + Cyclical + Seasonal + Irregular$$\n",
    "\n",
    "Or\n",
    "\n",
    "$$Y_t = Trend \\cdot Cyclical \\cdot Seasonal \\cdot Irregular$$\n",
    "\n",
    "Or another non-linear combination of all four. Each one of the previous four components is also time series."
   ]
  },
  {
   "cell_type": "markdown",
   "metadata": {},
   "source": [
    "### 1.1. Trend\n",
    "\n",
    "The trend is the component of the time series that allows us to see if, in general, the dependent variable we are observing is increasing, without taking into consideration local flutuations. Usually, people look at the trend to see if the mean value of a series is (monotonically) increasing or decreasing. The trend can be modelled as a linear or non-linear process, even though people prefer to assume it is linear."
   ]
  },
  {
   "cell_type": "markdown",
   "metadata": {},
   "source": [
    "In order to understand the concept of trend, let's look at a small dataset with [monthly shampoo sales for a shampoo company over a 3 year period](https://www.kaggle.com/dougcresswell/shampoo-sales-2001-2003).\n",
    "\n",
    "We have a file `utils.py` that loads the data instead of putting all that code here"
   ]
  },
  {
   "cell_type": "code",
   "execution_count": null,
   "metadata": {},
   "outputs": [],
   "source": [
    "from utils import load_shampoo_series\n",
    "\n",
    "shampoo_sales = load_shampoo_series()\n",
    "\n",
    "shampoo_sales.plot(figsize=(10, 8));"
   ]
  },
  {
   "cell_type": "markdown",
   "metadata": {},
   "source": [
    "The first thing you probably notice is that, in general, the *sales are increasing* even though that are anual peaks. In order to visualize the trend, let's plot a simple linear regression that maps the time and the sales"
   ]
  },
  {
   "cell_type": "code",
   "execution_count": null,
   "metadata": {},
   "outputs": [],
   "source": [
    "from utils import show_shampoo_sales_and_trend\n",
    "\n",
    "coef = show_shampoo_sales_and_trend(figsize=(10, 8))\n",
    "\n",
    "print(\"This trend tells us that, between any two consecutive months, the overall sales increase by {}.\".format(coef))"
   ]
  },
  {
   "cell_type": "markdown",
   "metadata": {},
   "source": [
    "Having a non-zero trend like the one we got in here is not a good thing when using certain models. We will learn more about it in the next notebooks."
   ]
  },
  {
   "cell_type": "markdown",
   "metadata": {},
   "source": [
    "### 1.2. Cyclical \n",
    "\n",
    "The cyclical component is, as the name states, a time series that exhibits a behavior that repeats in non-regular time intervals. For example, the performance of the world economy in the 20st century would exhibit a strong cyclical component with non-regular cycles (remember the crisis at the 80's and 2007). This is longer than a year."
   ]
  },
  {
   "cell_type": "markdown",
   "metadata": {},
   "source": [
    "###  1.3. Seasonal \n",
    "\n",
    "Unlike the cyclical component, the seasonal component changes at a fixed rate. For example, the bookings in hotels in certain cities have well known maxima (Autumn) and minima (Summer). Another clear example of seasonality is the one we have in a famous dataset that shows the [number of internaltional airline passengers (in thousands) by year](https://www.kaggle.com/andreazzini/international-airline-passengers), spanning from 1949 to 1961"
   ]
  },
  {
   "cell_type": "code",
   "execution_count": null,
   "metadata": {},
   "outputs": [],
   "source": [
    "from utils import load_airlines_series\n",
    "\n",
    "airlines = load_airlines_series()\n",
    "\n",
    "airlines.head(10)"
   ]
  },
  {
   "cell_type": "code",
   "execution_count": null,
   "metadata": {},
   "outputs": [],
   "source": [
    "airlines.plot();"
   ]
  },
  {
   "cell_type": "markdown",
   "metadata": {},
   "source": [
    "In this time series, we can see, at least, two things: (1) a positive trend and (2) yearly minima and maxima approximately in the same months. To make (2) more clear, let's plot the time series for each year"
   ]
  },
  {
   "cell_type": "code",
   "execution_count": null,
   "metadata": {},
   "outputs": [],
   "source": [
    "from utils import plot_seasonality_for_airlines"
   ]
  },
  {
   "cell_type": "code",
   "execution_count": null,
   "metadata": {},
   "outputs": [],
   "source": [
    "plot_seasonality_for_airlines(normalize=False);"
   ]
  },
  {
   "cell_type": "markdown",
   "metadata": {},
   "source": [
    "Around June-July, we get the peak and around October, we get the period with less passengers. In order for this pattern to be clear for you, let's normalize the season time series for each year"
   ]
  },
  {
   "cell_type": "code",
   "execution_count": null,
   "metadata": {},
   "outputs": [],
   "source": [
    "plot_seasonality_for_airlines(normalize=True);"
   ]
  },
  {
   "cell_type": "markdown",
   "metadata": {},
   "source": [
    "from the normalized plot, we can see a clear pattern in the second half of each year but we get a more dubious pattern for the first half."
   ]
  },
  {
   "cell_type": "markdown",
   "metadata": {},
   "source": [
    "### 1.4. Irregular\n",
    "\n",
    "After accounting for all the previous components, the remaining component, called *irregular* or *residual*, won't have any pattern. This part of the time series is considered noise. You might be thinking that this component is useless. But, in fact, several modelling techniques analyze this component in order to check a better model can be created."
   ]
  },
  {
   "cell_type": "markdown",
   "metadata": {},
   "source": [
    "<hr>\n"
   ]
  },
  {
   "cell_type": "markdown",
   "metadata": {},
   "source": [
    "## What do these look like combined?\n",
    "After introducing all 4 components, let's look into more examples\n",
    "\n",
    "![four example time series](media/ts-examples.png)"
   ]
  },
  {
   "cell_type": "markdown",
   "metadata": {},
   "source": [
    "- The upper left time series shows both a seasonal component for each year and a strong cyclical component that takes 6-10 years (imagine an ark connecting 1975 to 1981 and another one connecting 1981 and 1991) but no apparent trend.\n",
    "\n",
    "- In the upper right corner, we have a strong negative trend but no visible seasonal nor cyclical behavior. This might be due to how small the time series was. \n",
    "\n",
    "- In the lower left corner, shows both strong (positive trend) and seasonality but no cyclical component.\n",
    "\n",
    "- Finally, the time series at the lower right corner looks like pure noise, with some peaks. No clear pattern.\n",
    "\n",
    "\n",
    "You might be asking \"Are there any tools to help me identify all 4 components? After identifying them, what can I do with them?\"."
   ]
  },
  {
   "cell_type": "markdown",
   "metadata": {},
   "source": [
    "-------------"
   ]
  },
  {
   "cell_type": "markdown",
   "metadata": {},
   "source": [
    "## <font color='red'> Seasonal Decomposition </font>\n",
    "\n",
    "We just saw two ways of combining the time series components: additive ($Y = T + C + S + I$) and multiplicative ($Y = T \\cdot C \\cdot S \\cdot I$). But...how do we know if our time series is additive or multiplicative? Citing [Hyndman & Athanasopoulos](https://otexts.org/fpp2/components.html)\n",
    "\n",
    "> _The additive decomposition is the most appropriate if the magnitude of the seasonal fluctuations, or the **variation around the trend-cycle**, does not vary with the level of the time series. When the variation in the seasonal pattern, or the variation around the trend-cycle, appears to be proportional to the level of the time series, then a multiplicative decomposition is more appropriate. Multiplicative decompositions are common with economic time series._"
   ]
  },
  {
   "cell_type": "markdown",
   "metadata": {},
   "source": [
    "There are several ways to implement this: using [moving averages](https://otexts.org/fpp2/classical-decomposition.html), [X11](https://otexts.org/fpp2/x11.html), [SEATS](https://otexts.org/fpp2/seats.html) and [STL](https://otexts.org/fpp2/stl.html). Here we will use the **moving averages** approach from [statsmodel](https://www.statsmodels.org/stable/index.html)"
   ]
  },
  {
   "cell_type": "code",
   "execution_count": null,
   "metadata": {},
   "outputs": [],
   "source": [
    "from statsmodels.tsa.seasonal import seasonal_decompose"
   ]
  },
  {
   "cell_type": "code",
   "execution_count": null,
   "metadata": {},
   "outputs": [],
   "source": [
    "ts = load_airlines_series()\n",
    "\n",
    "ts.head()"
   ]
  },
  {
   "cell_type": "markdown",
   "metadata": {},
   "source": [
    "We need to choose if we will use `model=additive` or `model=multiplicative`. In order to do that, we have to look at our time series and follow the Hyndman & Athanasopoulos guidelines"
   ]
  },
  {
   "cell_type": "code",
   "execution_count": null,
   "metadata": {},
   "outputs": [],
   "source": [
    "ts.plot();"
   ]
  },
  {
   "cell_type": "markdown",
   "metadata": {},
   "source": [
    "It seems that the variance around the trend (remember the linear trend estimation?) is increasing throughout time. To check that visually, let's use the `pandas.Series.rolling.std` and plot the result"
   ]
  },
  {
   "cell_type": "code",
   "execution_count": null,
   "metadata": {},
   "outputs": [],
   "source": [
    "ts.rolling(12).std().plot();"
   ]
  },
  {
   "cell_type": "markdown",
   "metadata": {},
   "source": [
    "using the previous plot, we can confirm that the variance of this time series increases throughout time. As such, let's use the multiplicative model for decomposition"
   ]
  },
  {
   "cell_type": "code",
   "execution_count": null,
   "metadata": {},
   "outputs": [],
   "source": [
    "decomposition = seasonal_decompose(ts, model='multiplicative')\n",
    "decomposition"
   ]
  },
  {
   "cell_type": "markdown",
   "metadata": {},
   "source": [
    "with this object, we have access to the estimation of the following components: \n",
    "* Trend-Cyclical\n",
    "* Seasonal\n",
    "* Irregular\n",
    "\n",
    "statsmodel includes a function to plot all 3 components at once"
   ]
  },
  {
   "cell_type": "code",
   "execution_count": null,
   "metadata": {},
   "outputs": [],
   "source": [
    "decomposition.plot();"
   ]
  },
  {
   "cell_type": "markdown",
   "metadata": {},
   "source": [
    "we have direct access to all 3 components"
   ]
  },
  {
   "cell_type": "code",
   "execution_count": null,
   "metadata": {},
   "outputs": [],
   "source": [
    "decomposition.trend.head(10)"
   ]
  },
  {
   "cell_type": "code",
   "execution_count": null,
   "metadata": {},
   "outputs": [],
   "source": [
    "decomposition.seasonal.head(10)"
   ]
  },
  {
   "cell_type": "code",
   "execution_count": null,
   "metadata": {},
   "outputs": [],
   "source": [
    "decomposition.resid.head(10)"
   ]
  },
  {
   "cell_type": "markdown",
   "metadata": {},
   "source": [
    "We can reconstruct the original ts by multiplying its components"
   ]
  },
  {
   "cell_type": "code",
   "execution_count": null,
   "metadata": {},
   "outputs": [],
   "source": [
    "ts.plot(label=\"original\", linestyle =\"dashed\")\n",
    "(decomposition.trend * decomposition.resid * decomposition.seasonal).plot(label=\"recomposed\", linestyle=\"dashed\")\n",
    "sns.mpl.pyplot.legend();"
   ]
  }
 ],
 "metadata": {
  "kernelspec": {
   "display_name": "Python 3",
   "language": "python",
   "name": "python3"
  },
  "language_info": {
   "codemirror_mode": {
    "name": "ipython",
    "version": 3
   },
   "file_extension": ".py",
   "mimetype": "text/x-python",
   "name": "python",
   "nbconvert_exporter": "python",
   "pygments_lexer": "ipython3",
   "version": "3.8.5"
  }
 },
 "nbformat": 4,
 "nbformat_minor": 2
}
